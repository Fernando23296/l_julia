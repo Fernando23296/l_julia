{
 "cells": [
  {
   "cell_type": "markdown",
   "metadata": {},
   "source": [
    "# Julia Speed"
   ]
  },
  {
   "cell_type": "markdown",
   "metadata": {},
   "source": [
    "sum realiza una sumatoria, de n elementos "
   ]
  },
  {
   "cell_type": "code",
   "execution_count": 1,
   "metadata": {},
   "outputs": [
    {
     "data": {
      "text/plain": [
       "10000000-element Array{Float64,1}:\n",
       " 0.5563942065254246\n",
       " 0.06255684903467973\n",
       " 0.24170893790990355\n",
       " 0.2827882551087808\n",
       " 0.8906327208148588\n",
       " 0.01254054946395633\n",
       " 0.44751700089449664\n",
       " 0.27580833974303265\n",
       " 0.1334647377647764\n",
       " 0.22607819234897586\n",
       " 0.5894569542793984\n",
       " 0.9402546573446029\n",
       " 0.819405631041835\n",
       " ⋮\n",
       " 0.4276591455643326\n",
       " 0.45860966448461826\n",
       " 0.9296141061655954\n",
       " 0.6071433363062582\n",
       " 0.8506903042805702\n",
       " 0.14407101529414912\n",
       " 0.3541843928049597\n",
       " 0.22998094163071459\n",
       " 0.5673777260541053\n",
       " 0.42597388807169234\n",
       " 0.7961258352723972\n",
       " 0.6314813937322303"
      ]
     },
     "execution_count": 1,
     "metadata": {},
     "output_type": "execute_result"
    }
   ],
   "source": [
    "a = rand(10^7)"
   ]
  },
  {
   "cell_type": "code",
   "execution_count": 2,
   "metadata": {},
   "outputs": [
    {
     "data": {
      "text/plain": [
       "10000000"
      ]
     },
     "execution_count": 2,
     "metadata": {},
     "output_type": "execute_result"
    }
   ],
   "source": [
    "length(a)"
   ]
  },
  {
   "cell_type": "code",
   "execution_count": 3,
   "metadata": {},
   "outputs": [
    {
     "data": {
      "text/plain": [
       "4.999074330482025e6"
      ]
     },
     "execution_count": 3,
     "metadata": {},
     "output_type": "execute_result"
    }
   ],
   "source": [
    "sum(a)"
   ]
  },
  {
   "cell_type": "code",
   "execution_count": null,
   "metadata": {},
   "outputs": [],
   "source": []
  }
 ],
 "metadata": {
  "kernelspec": {
   "display_name": "Julia 1.4.0",
   "language": "julia",
   "name": "julia-1.4"
  },
  "language_info": {
   "file_extension": ".jl",
   "mimetype": "application/julia",
   "name": "julia",
   "version": "1.4.0"
  }
 },
 "nbformat": 4,
 "nbformat_minor": 2
}
