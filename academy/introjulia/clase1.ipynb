{
  "cells": [
    {
      "cell_type": "markdown",
      "source": [
        "# HOLA"
      ],
      "metadata": {
        "nteract": {
          "transient": {
            "deleting": false
          }
        }
      }
    },
    {
      "cell_type": "code",
      "source": [
        "println(\"Hola\")"
      ],
      "outputs": [
        {
          "output_type": "stream",
          "name": "stdout",
          "text": [
            "Hola\n"
          ]
        }
      ],
      "execution_count": 2,
      "metadata": {
        "collapsed": true,
        "jupyter": {
          "source_hidden": false,
          "outputs_hidden": false
        },
        "nteract": {
          "transient": {
            "deleting": false
          }
        },
        "execution": {
          "iopub.status.busy": "2020-07-06T00:28:38.312Z",
          "iopub.execute_input": "2020-07-06T00:28:38.328Z",
          "iopub.status.idle": "2020-07-06T00:28:38.349Z"
        }
      }
    },
    {
      "cell_type": "code",
      "source": [
        "123\n",
        "456"
      ],
      "outputs": [
        {
          "output_type": "execute_result",
          "execution_count": 3,
          "data": {
            "text/plain": "456"
          },
          "metadata": {}
        }
      ],
      "execution_count": 3,
      "metadata": {
        "collapsed": true,
        "jupyter": {
          "source_hidden": false,
          "outputs_hidden": false
        },
        "nteract": {
          "transient": {
            "deleting": false
          }
        },
        "execution": {
          "iopub.status.busy": "2020-07-06T00:28:52.420Z",
          "iopub.execute_input": "2020-07-06T00:28:52.427Z",
          "iopub.status.idle": "2020-07-06T00:28:53.115Z"
        }
      }
    },
    {
      "cell_type": "code",
      "source": [
        "my_answer = 42\n",
        "typeof(my_answer)"
      ],
      "outputs": [
        {
          "output_type": "execute_result",
          "execution_count": 4,
          "data": {
            "text/plain": "Int64"
          },
          "metadata": {}
        }
      ],
      "execution_count": 4,
      "metadata": {
        "collapsed": true,
        "jupyter": {
          "source_hidden": false,
          "outputs_hidden": false
        },
        "nteract": {
          "transient": {
            "deleting": false
          }
        },
        "execution": {
          "iopub.status.busy": "2020-07-06T00:29:37.429Z",
          "iopub.execute_input": "2020-07-06T00:29:37.438Z",
          "iopub.status.idle": "2020-07-06T00:29:37.807Z"
        }
      }
    },
    {
      "cell_type": "code",
      "source": [
        "my_float = 23.5\n",
        "typeof(my_float)"
      ],
      "outputs": [
        {
          "output_type": "execute_result",
          "execution_count": 5,
          "data": {
            "text/plain": "Float64"
          },
          "metadata": {}
        }
      ],
      "execution_count": 5,
      "metadata": {
        "collapsed": true,
        "jupyter": {
          "source_hidden": false,
          "outputs_hidden": false
        },
        "nteract": {
          "transient": {
            "deleting": false
          }
        },
        "execution": {
          "iopub.status.busy": "2020-07-06T00:29:57.355Z",
          "iopub.execute_input": "2020-07-06T00:29:57.361Z",
          "iopub.status.idle": "2020-07-06T00:29:57.377Z"
        }
      }
    },
    {
      "cell_type": "code",
      "source": [
        "my_name = \"Bruno\"\n",
        "typeof(my_name)"
      ],
      "outputs": [
        {
          "output_type": "execute_result",
          "execution_count": 6,
          "data": {
            "text/plain": "String"
          },
          "metadata": {}
        }
      ],
      "execution_count": 6,
      "metadata": {
        "collapsed": true,
        "jupyter": {
          "source_hidden": false,
          "outputs_hidden": false
        },
        "nteract": {
          "transient": {
            "deleting": false
          }
        },
        "execution": {
          "iopub.status.busy": "2020-07-06T00:30:22.686Z",
          "iopub.execute_input": "2020-07-06T00:30:22.692Z",
          "iopub.status.idle": "2020-07-06T00:30:22.709Z"
        }
      }
    },
    {
      "cell_type": "code",
      "source": [
        "# ONE LINE COMMENT\n",
        "#= ASDASD\n",
        "AS\n",
        "DAS\n",
        "DAS\n",
        "D\n",
        "A\n",
        "SDA=#\n",
        "println(\"No esta\")"
      ],
      "outputs": [
        {
          "output_type": "stream",
          "name": "stdout",
          "text": [
            "No esta\n"
          ]
        }
      ],
      "execution_count": 7,
      "metadata": {
        "collapsed": true,
        "jupyter": {
          "source_hidden": false,
          "outputs_hidden": false
        },
        "nteract": {
          "transient": {
            "deleting": false
          }
        },
        "execution": {
          "iopub.status.busy": "2020-07-06T00:32:42.930Z",
          "iopub.execute_input": "2020-07-06T00:32:42.938Z",
          "iopub.status.idle": "2020-07-06T00:32:42.961Z"
        }
      }
    },
    {
      "cell_type": "code",
      "source": [
        "suma = 3 + 7\n",
        "print(\"La suma es: \",suma+1)"
      ],
      "outputs": [
        {
          "output_type": "stream",
          "name": "stdout",
          "text": [
            "La suma es: 11"
          ]
        }
      ],
      "execution_count": 14,
      "metadata": {
        "collapsed": true,
        "jupyter": {
          "source_hidden": false,
          "outputs_hidden": false
        },
        "nteract": {
          "transient": {
            "deleting": false
          }
        },
        "execution": {
          "iopub.status.busy": "2020-07-06T00:37:40.135Z",
          "iopub.execute_input": "2020-07-06T00:37:40.141Z",
          "iopub.status.idle": "2020-07-06T00:37:40.155Z"
        }
      }
    },
    {
      "cell_type": "code",
      "source": [
        "print(\"%.0f %.1f %f\\n\" ,0.5, 0.025, -0.0078125)"
      ],
      "outputs": [
        {
          "output_type": "stream",
          "name": "stdout",
          "text": [
            "%.0f %.1f %f\n",
            "0.50.025-0.0078125"
          ]
        }
      ],
      "execution_count": 19,
      "metadata": {
        "collapsed": true,
        "jupyter": {
          "source_hidden": false,
          "outputs_hidden": false
        },
        "nteract": {
          "transient": {
            "deleting": false
          }
        },
        "execution": {
          "iopub.status.busy": "2020-07-06T00:51:26.859Z",
          "iopub.execute_input": "2020-07-06T00:51:26.871Z",
          "iopub.status.idle": "2020-07-06T00:51:27.141Z"
        }
      }
    },
    {
      "cell_type": "code",
      "source": [
        "x = 4\n",
        "println(\"calling $x\")"
      ],
      "outputs": [
        {
          "output_type": "stream",
          "name": "stdout",
          "text": [
            "calling 4\n"
          ]
        }
      ],
      "execution_count": 23,
      "metadata": {
        "collapsed": true,
        "jupyter": {
          "source_hidden": false,
          "outputs_hidden": false
        },
        "nteract": {
          "transient": {
            "deleting": false
          }
        },
        "execution": {
          "iopub.status.busy": "2020-07-06T00:54:35.347Z",
          "iopub.execute_input": "2020-07-06T00:54:35.354Z",
          "iopub.status.idle": "2020-07-06T00:54:35.369Z"
        }
      }
    },
    {
      "cell_type": "code",
      "source": [
        "using Printf\n",
        "@printf \"%d is less than %f\\n\" 4.5 5.3"
      ],
      "outputs": [
        {
          "output_type": "stream",
          "name": "stdout",
          "text": [
            "5 is less than 5.300000\n"
          ]
        }
      ],
      "execution_count": 24,
      "metadata": {
        "collapsed": true,
        "jupyter": {
          "source_hidden": false,
          "outputs_hidden": false
        },
        "nteract": {
          "transient": {
            "deleting": false
          }
        },
        "execution": {
          "iopub.status.busy": "2020-07-06T00:55:19.035Z",
          "iopub.execute_input": "2020-07-06T00:55:19.043Z",
          "iopub.status.idle": "2020-07-06T00:55:19.215Z"
        }
      }
    },
    {
      "cell_type": "code",
      "source": [
        "@printf \"Resta %i\" 5-4"
      ],
      "outputs": [
        {
          "output_type": "stream",
          "name": "stdout",
          "text": [
            "Resta 1"
          ]
        }
      ],
      "execution_count": 25,
      "metadata": {
        "collapsed": true,
        "jupyter": {
          "source_hidden": false,
          "outputs_hidden": false
        },
        "nteract": {
          "transient": {
            "deleting": false
          }
        },
        "execution": {
          "iopub.status.busy": "2020-07-06T01:18:10.186Z",
          "iopub.execute_input": "2020-07-06T01:18:10.202Z",
          "iopub.status.idle": "2020-07-06T01:18:10.226Z"
        }
      }
    },
    {
      "cell_type": "code",
      "source": [
        "@printf \"Multiplicacion %i\" 3"
      ],
      "outputs": [
        {
          "output_type": "stream",
          "name": "stdout",
          "text": [
            "Multiplicacion 3"
          ]
        }
      ],
      "execution_count": 32,
      "metadata": {
        "collapsed": true,
        "jupyter": {
          "source_hidden": false,
          "outputs_hidden": false
        },
        "nteract": {
          "transient": {
            "deleting": false
          }
        },
        "execution": {
          "iopub.status.busy": "2020-07-06T01:28:36.932Z",
          "iopub.execute_input": "2020-07-06T01:28:36.950Z",
          "iopub.status.idle": "2020-07-06T01:28:36.985Z"
        }
      }
    },
    {
      "cell_type": "code",
      "source": [
        "division = 2/3\n",
        "@printf \"Division %f\" division"
      ],
      "outputs": [
        {
          "output_type": "stream",
          "name": "stdout",
          "text": [
            "Division 0.666667"
          ]
        }
      ],
      "execution_count": 37,
      "metadata": {
        "collapsed": true,
        "jupyter": {
          "source_hidden": false,
          "outputs_hidden": false
        },
        "nteract": {
          "transient": {
            "deleting": false
          }
        },
        "execution": {
          "iopub.status.busy": "2020-07-06T01:29:23.415Z",
          "iopub.execute_input": "2020-07-06T01:29:23.423Z",
          "iopub.status.idle": "2020-07-06T01:29:23.443Z"
        }
      }
    },
    {
      "cell_type": "code",
      "source": [
        "power = 2 ^ 4\n",
        "@printf \"Power of %i and %i\" power"
      ],
      "outputs": [
        {
          "output_type": "stream",
          "name": "stdout",
          "text": [
            "Power 16"
          ]
        }
      ],
      "execution_count": 38,
      "metadata": {
        "collapsed": true,
        "jupyter": {
          "source_hidden": false,
          "outputs_hidden": false
        },
        "nteract": {
          "transient": {
            "deleting": false
          }
        },
        "execution": {
          "iopub.status.busy": "2020-07-06T01:30:05.873Z",
          "iopub.execute_input": "2020-07-06T01:30:05.884Z",
          "iopub.status.idle": "2020-07-06T01:30:05.902Z"
        }
      }
    },
    {
      "cell_type": "code",
      "source": [
        "residuo = 13%5\n",
        "@printf \"Residuo: %i\" residuo "
      ],
      "outputs": [
        {
          "output_type": "stream",
          "name": "stdout",
          "text": [
            "Residuo: 3"
          ]
        }
      ],
      "execution_count": 45,
      "metadata": {
        "collapsed": true,
        "jupyter": {
          "source_hidden": false,
          "outputs_hidden": false
        },
        "nteract": {
          "transient": {
            "deleting": false
          }
        },
        "execution": {
          "iopub.status.busy": "2020-07-06T01:37:43.775Z",
          "iopub.execute_input": "2020-07-06T01:37:43.788Z",
          "iopub.status.idle": "2020-07-06T01:37:43.812Z"
        }
      }
    },
    {
      "cell_type": "code",
      "source": [
        "println(\"Bruno\")\n",
        "print(\"Fernando\")"
      ],
      "outputs": [
        {
          "output_type": "stream",
          "name": "stdout",
          "text": [
            "Bruno\n",
            "Fernando"
          ]
        }
      ],
      "execution_count": 47,
      "metadata": {
        "collapsed": true,
        "jupyter": {
          "source_hidden": false,
          "outputs_hidden": false
        },
        "nteract": {
          "transient": {
            "deleting": false
          }
        },
        "execution": {
          "iopub.status.busy": "2020-07-06T01:38:55.066Z",
          "iopub.execute_input": "2020-07-06T01:38:55.074Z",
          "iopub.status.idle": "2020-07-06T01:38:55.100Z"
        }
      }
    },
    {
      "cell_type": "code",
      "source": [],
      "outputs": [],
      "execution_count": null,
      "metadata": {
        "collapsed": true,
        "jupyter": {
          "source_hidden": false,
          "outputs_hidden": false
        },
        "nteract": {
          "transient": {
            "deleting": false
          }
        }
      }
    }
  ],
  "metadata": {
    "kernel_info": {
      "name": "julia-1.4"
    },
    "language_info": {
      "file_extension": ".jl",
      "name": "julia",
      "mimetype": "application/julia",
      "version": "1.4.0"
    },
    "kernelspec": {
      "argv": [
        "/Applications/Julia-1.4.app/Contents/Resources/julia/bin/julia",
        "-i",
        "--startup-file=yes",
        "--color=yes",
        "--project=@.",
        "/Users/fernandosilva/.julia/packages/IJulia/yLI42/src/kernel.jl",
        "{connection_file}"
      ],
      "display_name": "Julia 1.4.0",
      "env": {},
      "interrupt_mode": "signal",
      "language": "julia",
      "name": "julia-1.4"
    },
    "nteract": {
      "version": "0.24.0"
    }
  },
  "nbformat": 4,
  "nbformat_minor": 0
}