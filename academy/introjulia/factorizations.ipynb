{
 "cells": [
  {
   "cell_type": "markdown",
   "metadata": {},
   "source": [
    "# Factorización"
   ]
  },
  {
   "cell_type": "markdown",
   "metadata": {},
   "source": [
    "### Outline\n",
    "* Factiorización (Matrix Factorization Objects)\n",
    "* Special Matrix Structures (Matrices know if they)\n",
    "* Algebra Lineal Generica"
   ]
  },
  {
   "cell_type": "code",
   "execution_count": 2,
   "metadata": {},
   "outputs": [],
   "source": [
    "using LinearAlgebra"
   ]
  },
  {
   "cell_type": "code",
   "execution_count": 3,
   "metadata": {},
   "outputs": [
    {
     "data": {
      "text/plain": [
       "3×3 Array{Float64,2}:\n",
       " 0.172298  0.0718925  0.172698\n",
       " 0.179512  0.415478   0.224942\n",
       " 0.469685  0.522931   0.999137"
      ]
     },
     "execution_count": 3,
     "metadata": {},
     "output_type": "execute_result"
    }
   ],
   "source": [
    "A = rand(3,3)"
   ]
  },
  {
   "cell_type": "code",
   "execution_count": 4,
   "metadata": {},
   "outputs": [
    {
     "data": {
      "text/plain": [
       "3×3 Array{Float64,2}:\n",
       " 0.172298  0.0718925  0.172698\n",
       " 0.179512  0.415478   0.224942\n",
       " 0.469685  0.522931   0.999137"
      ]
     },
     "execution_count": 4,
     "metadata": {},
     "output_type": "execute_result"
    }
   ],
   "source": [
    "A"
   ]
  },
  {
   "cell_type": "code",
   "execution_count": 5,
   "metadata": {},
   "outputs": [
    {
     "data": {
      "text/plain": [
       "3-element Array{Int64,1}:\n",
       " 1\n",
       " 1\n",
       " 1"
      ]
     },
     "execution_count": 5,
     "metadata": {},
     "output_type": "execute_result"
    }
   ],
   "source": [
    "x = fill(1,(3,))"
   ]
  },
  {
   "cell_type": "code",
   "execution_count": 6,
   "metadata": {},
   "outputs": [
    {
     "data": {
      "text/plain": [
       "3-element Array{Float64,1}:\n",
       " 0.4168877282157606\n",
       " 0.8199320111303712\n",
       " 1.991753365456233"
      ]
     },
     "execution_count": 6,
     "metadata": {},
     "output_type": "execute_result"
    }
   ],
   "source": [
    "b = A * x"
   ]
  },
  {
   "cell_type": "markdown",
   "metadata": {},
   "source": [
    "### Lu factorizations\n",
    "En Julia podemos realizar la factorizacion LU <br>\n",
    "PA = LU <br>\n",
    "donde P es una matriz de permutación, L es una unidad diagonal triangular inferior y U es una trinagular superior, usando lufact Julia permite calcular la factorización y define un composite de tipo factorization para almacenarlo"
   ]
  },
  {
   "cell_type": "code",
   "execution_count": 11,
   "metadata": {},
   "outputs": [
    {
     "data": {
      "text/plain": [
       "LU{Float64,Array{Float64,2}}\n",
       "L factor:\n",
       "3×3 Array{Float64,2}:\n",
       " 1.0        0.0       0.0\n",
       " 0.382196   1.0       0.0\n",
       " 0.366836  -0.556255  1.0\n",
       "U factor:\n",
       "3×3 Array{Float64,2}:\n",
       " 0.469685  0.522931   0.999137\n",
       " 0.0       0.215616  -0.156924\n",
       " 0.0       0.0       -0.281112"
      ]
     },
     "execution_count": 11,
     "metadata": {},
     "output_type": "execute_result"
    }
   ],
   "source": [
    "Alu = lu(A)"
   ]
  },
  {
   "cell_type": "code",
   "execution_count": 12,
   "metadata": {},
   "outputs": [
    {
     "data": {
      "text/plain": [
       "LU{Float64,Array{Float64,2}}"
      ]
     },
     "execution_count": 12,
     "metadata": {},
     "output_type": "execute_result"
    }
   ],
   "source": [
    "typeof(Alu)"
   ]
  },
  {
   "cell_type": "code",
   "execution_count": 13,
   "metadata": {},
   "outputs": [
    {
     "data": {
      "text/plain": [
       "3×3 Array{Float64,2}:\n",
       " 0.0  0.0  1.0\n",
       " 0.0  1.0  0.0\n",
       " 1.0  0.0  0.0"
      ]
     },
     "execution_count": 13,
     "metadata": {},
     "output_type": "execute_result"
    }
   ],
   "source": [
    "Alu.P"
   ]
  },
  {
   "cell_type": "code",
   "execution_count": 14,
   "metadata": {},
   "outputs": [
    {
     "data": {
      "text/plain": [
       "3×3 Array{Float64,2}:\n",
       " 1.0        0.0       0.0\n",
       " 0.382196   1.0       0.0\n",
       " 0.366836  -0.556255  1.0"
      ]
     },
     "execution_count": 14,
     "metadata": {},
     "output_type": "execute_result"
    }
   ],
   "source": [
    "Alu.L"
   ]
  },
  {
   "cell_type": "code",
   "execution_count": 15,
   "metadata": {},
   "outputs": [
    {
     "data": {
      "text/plain": [
       "3×3 Array{Float64,2}:\n",
       " 0.469685  0.522931   0.999137\n",
       " 0.0       0.215616  -0.156924\n",
       " 0.0       0.0       -0.281112"
      ]
     },
     "execution_count": 15,
     "metadata": {},
     "output_type": "execute_result"
    }
   ],
   "source": [
    "Alu.U"
   ]
  },
  {
   "cell_type": "code",
   "execution_count": 16,
   "metadata": {},
   "outputs": [
    {
     "data": {
      "text/plain": [
       "3-element Array{Float64,1}:\n",
       " 1.0000000000000007\n",
       " 0.9999999999999998\n",
       " 0.9999999999999998"
      ]
     },
     "execution_count": 16,
     "metadata": {},
     "output_type": "execute_result"
    }
   ],
   "source": [
    "A\\b"
   ]
  },
  {
   "cell_type": "code",
   "execution_count": 17,
   "metadata": {},
   "outputs": [
    {
     "data": {
      "text/plain": [
       "true"
      ]
     },
     "execution_count": 17,
     "metadata": {},
     "output_type": "execute_result"
    }
   ],
   "source": [
    "det(A) ≈ det(Alu)"
   ]
  },
  {
   "cell_type": "markdown",
   "metadata": {},
   "source": [
    "# QR Factorizations\n",
    "En Julia podemos realizar QR Factorization <br>\n",
    "A = QR <br>\n",
    "Donde Q es una unidad orthogal y R es un triangulo superior, usando qrfact"
   ]
  },
  {
   "cell_type": "code",
   "execution_count": 18,
   "metadata": {},
   "outputs": [
    {
     "data": {
      "text/plain": [
       "LinearAlgebra.QRCompactWY{Float64,Array{Float64,2}}\n",
       "Q factor:\n",
       "3×3 LinearAlgebra.QRCompactWYQ{Float64,Array{Float64,2}}:\n",
       " -0.324159   0.535797  -0.779642\n",
       " -0.337732  -0.835379  -0.43368\n",
       " -0.883662   0.122729   0.451752\n",
       "R factor:\n",
       "3×3 Array{Float64,2}:\n",
       " -0.531522  -0.625719  -1.01485\n",
       "  0.0       -0.244384   0.0272419\n",
       "  0.0        0.0        0.219167"
      ]
     },
     "execution_count": 18,
     "metadata": {},
     "output_type": "execute_result"
    }
   ],
   "source": [
    "Aqr = qr(A)"
   ]
  },
  {
   "cell_type": "markdown",
   "metadata": {},
   "source": [
    "Simiar a la factorización LU, las matrices Q y R pueden ser extraidas de la factorizacion QR"
   ]
  },
  {
   "cell_type": "code",
   "execution_count": 20,
   "metadata": {},
   "outputs": [
    {
     "data": {
      "text/plain": [
       "3×3 LinearAlgebra.QRCompactWYQ{Float64,Array{Float64,2}}:\n",
       " -0.324159   0.535797  -0.779642\n",
       " -0.337732  -0.835379  -0.43368\n",
       " -0.883662   0.122729   0.451752"
      ]
     },
     "execution_count": 20,
     "metadata": {},
     "output_type": "execute_result"
    }
   ],
   "source": [
    "Aqr.Q"
   ]
  },
  {
   "cell_type": "code",
   "execution_count": 21,
   "metadata": {},
   "outputs": [
    {
     "data": {
      "text/plain": [
       "3×3 Array{Float64,2}:\n",
       " -0.531522  -0.625719  -1.01485\n",
       "  0.0       -0.244384   0.0272419\n",
       "  0.0        0.0        0.219167"
      ]
     },
     "execution_count": 21,
     "metadata": {},
     "output_type": "execute_result"
    }
   ],
   "source": [
    "Aqr.R"
   ]
  },
  {
   "cell_type": "markdown",
   "metadata": {},
   "source": [
    "# Eigendecompositions\n",
    "Los resultados de eigendecompositions, singular value decompositions, hessenberg factorizations, and Schur decompositions son todos guardados en tipos de Factorization. Los eigendecomposition pueden ser computados."
   ]
  },
  {
   "cell_type": "code",
   "execution_count": 22,
   "metadata": {},
   "outputs": [
    {
     "data": {
      "text/plain": [
       "3×3 Array{Float64,2}:\n",
       " 0.344595  0.251404  0.642383\n",
       " 0.251404  0.830957  0.747873\n",
       " 0.642383  0.747873  1.99827"
      ]
     },
     "execution_count": 22,
     "metadata": {},
     "output_type": "execute_result"
    }
   ],
   "source": [
    "Asym = A + A'"
   ]
  },
  {
   "cell_type": "code",
   "execution_count": 23,
   "metadata": {},
   "outputs": [
    {
     "data": {
      "text/plain": [
       "Eigen{Float64,Float64,Array{Float64,2},Array{Float64,1}}\n",
       "values:\n",
       "3-element Array{Float64,1}:\n",
       " 0.12432819202288077\n",
       " 0.47415284763948407\n",
       " 2.575345439125293\n",
       "vectors:\n",
       "3×3 Array{Float64,2}:\n",
       " -0.944486    0.145219  0.294716\n",
       " -0.0114869  -0.911063  0.412107\n",
       "  0.328351    0.385844  0.862154"
      ]
     },
     "execution_count": 23,
     "metadata": {},
     "output_type": "execute_result"
    }
   ],
   "source": [
    "AsymEig = eigen(Asym)"
   ]
  },
  {
   "cell_type": "markdown",
   "metadata": {},
   "source": [
    "Los valores y los vectores pueden ser extraidos de los tipos Eigenpor indexes especiales"
   ]
  },
  {
   "cell_type": "code",
   "execution_count": 24,
   "metadata": {},
   "outputs": [
    {
     "data": {
      "text/plain": [
       "3-element Array{Float64,1}:\n",
       " 0.12432819202288077\n",
       " 0.47415284763948407\n",
       " 2.575345439125293"
      ]
     },
     "execution_count": 24,
     "metadata": {},
     "output_type": "execute_result"
    }
   ],
   "source": [
    "AsymEig.values"
   ]
  },
  {
   "cell_type": "code",
   "execution_count": 25,
   "metadata": {},
   "outputs": [
    {
     "data": {
      "text/plain": [
       "3×3 Array{Float64,2}:\n",
       " -0.944486    0.145219  0.294716\n",
       " -0.0114869  -0.911063  0.412107\n",
       "  0.328351    0.385844  0.862154"
      ]
     },
     "execution_count": 25,
     "metadata": {},
     "output_type": "execute_result"
    }
   ],
   "source": [
    "AsymEig.vectors"
   ]
  },
  {
   "cell_type": "markdown",
   "metadata": {},
   "source": []
  },
  {
   "cell_type": "markdown",
   "metadata": {},
   "source": [
    "Once again, when the factorization is stored in a type, we can dispatch on it and write specialized methods that exploit the properties of the factorization, e.g. that  \n",
    "A\n",
    "−\n",
    "1\n",
    "=\n",
    "(\n",
    "V\n",
    "Λ\n",
    "V\n",
    "−\n",
    "1\n",
    ")\n",
    "−\n",
    "1\n",
    "=\n",
    "V\n",
    "Λ\n",
    "−\n",
    "1\n",
    "V\n",
    "−\n",
    "1\n",
    " ."
   ]
  },
  {
   "cell_type": "code",
   "execution_count": 27,
   "metadata": {},
   "outputs": [
    {
     "data": {
      "text/plain": [
       "3×3 Array{Float64,2}:\n",
       "  1.0          -1.9984e-15   -1.77636e-15\n",
       " -1.11022e-16   1.0           2.22045e-16\n",
       "  1.22125e-15   1.55431e-15   1.0"
      ]
     },
     "execution_count": 27,
     "metadata": {},
     "output_type": "execute_result"
    }
   ],
   "source": [
    "inv(AsymEig)*Asym"
   ]
  },
  {
   "cell_type": "markdown",
   "metadata": {},
   "source": [
    "# Estructuras de Matrices Especiales\n",
    "Las estructuras de matrices son muy importantes en algebra lineal."
   ]
  },
  {
   "cell_type": "code",
   "execution_count": 28,
   "metadata": {},
   "outputs": [
    {
     "data": {
      "text/plain": [
       "1000×1000 Array{Float64,2}:\n",
       " 0.474353   0.127221   0.506654   …  0.489041    0.780239   0.238935\n",
       " 0.288891   0.151596   0.438908      0.695529    0.313434   0.870095\n",
       " 0.307746   0.27036    0.158892      0.640446    0.167713   0.198239\n",
       " 0.888736   0.763391   0.686568      0.341387    0.0165242  0.182893\n",
       " 0.0788733  0.215983   0.556975      0.265627    0.883245   0.623367\n",
       " 0.652996   0.361256   0.968466   …  0.420683    0.0984572  0.681819\n",
       " 0.119966   0.305628   0.175397      0.610456    0.950862   0.710344\n",
       " 0.920496   0.711359   0.543441      0.298774    0.56685    0.839455\n",
       " 0.623895   0.827351   0.416784      0.403591    0.221242   0.107328\n",
       " 0.466286   0.387637   0.0712118     0.802662    0.621207   0.891581\n",
       " 0.814593   0.704929   0.741661   …  0.832648    0.968357   0.87765\n",
       " 0.17405    0.389075   0.514964      0.38211     0.259622   0.117079\n",
       " 0.92436    0.914846   0.712812      0.529329    0.747185   0.391711\n",
       " ⋮                                ⋱                         \n",
       " 0.621792   0.216391   0.266657      0.00243448  0.0339355  0.0343047\n",
       " 0.0676493  0.833482   0.513268      0.788084    0.268431   0.50135\n",
       " 0.37223    0.150775   0.714389   …  0.87801     0.697835   0.800359\n",
       " 0.64201    0.278648   0.360498      0.497685    0.668961   0.960303\n",
       " 0.372643   0.257468   0.206968      0.192527    0.565174   0.739789\n",
       " 0.633999   0.638976   0.592537      0.985305    0.426535   0.566435\n",
       " 0.900007   0.915466   0.788269      0.370386    0.768797   0.0687754\n",
       " 0.898577   0.270825   0.904171   …  0.185594    0.266944   0.847801\n",
       " 0.0789884  0.0471153  0.113764      0.529615    0.387005   0.03631\n",
       " 0.210468   0.821186   0.700359      0.376254    0.457385   0.361403\n",
       " 0.908498   0.342184   0.735543      0.649153    0.639495   0.701472\n",
       " 0.69209    0.669207   0.147624      0.297026    0.823859   0.908659"
      ]
     },
     "execution_count": 28,
     "metadata": {},
     "output_type": "execute_result"
    }
   ],
   "source": [
    "n = 1000\n",
    "A = rand(n,n)"
   ]
  },
  {
   "cell_type": "code",
   "execution_count": 29,
   "metadata": {},
   "outputs": [
    {
     "data": {
      "text/plain": [
       "1000×1000 Array{Float64,2}:\n",
       " 0.948705  0.416113  0.8144    1.6909    …  0.699509  1.68874   0.931025\n",
       " 0.416113  0.303192  0.709268  1.52023      1.51671   0.655618  1.5393\n",
       " 0.8144    0.709268  0.317784  0.842613     1.3408    0.903256  0.345863\n",
       " 1.6909    1.52023   0.842613  0.644183     0.666237  0.980223  1.02923\n",
       " 0.756049  0.981434  1.38419   0.646219     0.946601  1.41925   1.25214\n",
       " 1.42284   0.553186  1.84031   1.65571   …  1.27046   0.29511   0.683443\n",
       " 0.504861  0.468556  0.333326  1.18146      1.21507   1.58989   1.37832\n",
       " 1.46296   1.41692   0.865601  1.03021      1.13338   1.38572   1.39462\n",
       " 1.61653   1.41985   0.522816  0.851551     0.991596  0.491472  0.766627\n",
       " 1.00266   0.645131  0.287688  0.385874     1.73284   1.29163   1.69634\n",
       " 1.47173   1.37617   0.839904  0.768916  …  1.06001   1.45626   1.70709\n",
       " 0.553179  1.3523    1.20179   0.210871     1.18868   0.72153   0.182616\n",
       " 1.28912   1.47579   0.728624  1.21418      0.573866  1.59904   0.551274\n",
       " ⋮                                       ⋱                      \n",
       " 1.2848    0.40571   1.23122   0.351917     0.386572  0.240538  0.218594\n",
       " 0.870895  1.5464    0.913269  1.23434      1.04141   0.705249  0.723912\n",
       " 0.807922  0.882158  0.754692  0.97166   …  1.11005   1.42349   1.73236\n",
       " 1.01149   0.820439  0.991242  0.6554       1.16605   0.827378  1.46659\n",
       " 0.878791  0.684826  0.410309  1.13093      0.44395   0.748517  1.18756\n",
       " 0.679185  1.11174   1.31526   1.33597      1.36213   1.35575   1.03647\n",
       " 1.3053    1.19129   0.834977  1.46796      0.700861  1.26615   0.880851\n",
       " 1.89296   0.726514  1.33076   0.788843  …  0.911013  0.503312  1.73595\n",
       " 0.738168  0.124259  0.885569  1.83657      1.08658   1.28386   0.826077\n",
       " 0.699509  1.51671   1.3408    0.666237     0.752508  1.10654   0.658428\n",
       " 1.68874   0.655618  0.903256  0.980223     1.10654   1.27899   1.52533\n",
       " 0.931025  1.5393    0.345863  1.02923      0.658428  1.52533   1.81732"
      ]
     },
     "execution_count": 29,
     "metadata": {},
     "output_type": "execute_result"
    }
   ],
   "source": [
    "Asym = A + A'"
   ]
  },
  {
   "cell_type": "code",
   "execution_count": 31,
   "metadata": {},
   "outputs": [],
   "source": [
    "using Pkg"
   ]
  },
  {
   "cell_type": "code",
   "execution_count": 33,
   "metadata": {},
   "outputs": [
    {
     "data": {
      "text/plain": [
       "true"
      ]
     },
     "execution_count": 33,
     "metadata": {},
     "output_type": "execute_result"
    }
   ],
   "source": [
    "issymmetric(Asym)"
   ]
  },
  {
   "cell_type": "code",
   "execution_count": 34,
   "metadata": {},
   "outputs": [
    {
     "data": {
      "text/plain": [
       "0.4161126806794475"
      ]
     },
     "execution_count": 34,
     "metadata": {},
     "output_type": "execute_result"
    }
   ],
   "source": [
    "Asym_noisy = copy(Asym)\n",
    "Asym_noisy[1,2] += 5eps()"
   ]
  },
  {
   "cell_type": "code",
   "execution_count": 35,
   "metadata": {},
   "outputs": [
    {
     "data": {
      "text/plain": [
       "false"
      ]
     },
     "execution_count": 35,
     "metadata": {},
     "output_type": "execute_result"
    }
   ],
   "source": [
    "issymmetric(Asym_noisy)"
   ]
  },
  {
   "cell_type": "code",
   "execution_count": 36,
   "metadata": {},
   "outputs": [],
   "source": [
    "Asym_explicit = Symmetric(Asym_noisy);"
   ]
  },
  {
   "cell_type": "code",
   "execution_count": 37,
   "metadata": {},
   "outputs": [
    {
     "name": "stdout",
     "output_type": "stream",
     "text": [
      "  0.325310 seconds (168.04 k allocations: 16.060 MiB, 6.19% gc time)\n"
     ]
    }
   ],
   "source": [
    "@time eigvals(Asym);"
   ]
  },
  {
   "cell_type": "code",
   "execution_count": 38,
   "metadata": {},
   "outputs": [
    {
     "name": "stdout",
     "output_type": "stream",
     "text": [
      "  1.130934 seconds (14 allocations: 7.921 MiB)\n"
     ]
    }
   ],
   "source": [
    "@time eigvals(Asym_noisy);"
   ]
  },
  {
   "cell_type": "code",
   "execution_count": 39,
   "metadata": {},
   "outputs": [
    {
     "name": "stdout",
     "output_type": "stream",
     "text": [
      "  0.192824 seconds (7.72 k allocations: 8.387 MiB)\n"
     ]
    }
   ],
   "source": [
    "@time eigvals(Asym_explicit);"
   ]
  },
  {
   "cell_type": "code",
   "execution_count": null,
   "metadata": {},
   "outputs": [],
   "source": []
  }
 ],
 "metadata": {
  "kernelspec": {
   "display_name": "Julia 1.4.0",
   "language": "julia",
   "name": "julia-1.4"
  },
  "language_info": {
   "file_extension": ".jl",
   "mimetype": "application/julia",
   "name": "julia",
   "version": "1.4.0"
  }
 },
 "nbformat": 4,
 "nbformat_minor": 2
}
