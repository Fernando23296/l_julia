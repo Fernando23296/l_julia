{
  "cells": [
    {
      "cell_type": "markdown",
      "source": [
        "# Data Structures"
      ],
      "metadata": {
        "nteract": {
          "transient": {
            "deleting": false
          }
        }
      }
    },
    {
      "cell_type": "markdown",
      "source": [
        "## Dictionaries"
      ],
      "metadata": {
        "nteract": {
          "transient": {
            "deleting": false
          }
        }
      }
    },
    {
      "cell_type": "code",
      "source": [
        "mybook = Dict(\"Joe\"=>\"89898\",\"Andy\"=>\"32323-3232\")"
      ],
      "outputs": [
        {
          "output_type": "execute_result",
          "execution_count": 9,
          "data": {
            "text/plain": "Dict{String,String} with 2 entries:\n  \"Joe\"  => \"89898\"\n  \"Andy\" => \"32323-3232\""
          },
          "metadata": {}
        }
      ],
      "execution_count": 9,
      "metadata": {
        "collapsed": true,
        "jupyter": {
          "source_hidden": false,
          "outputs_hidden": false
        },
        "nteract": {
          "transient": {
            "deleting": false
          }
        },
        "execution": {
          "iopub.status.busy": "2020-07-06T03:03:06.350Z",
          "iopub.execute_input": "2020-07-06T03:03:06.358Z",
          "iopub.status.idle": "2020-07-06T03:03:06.377Z"
        }
      }
    },
    {
      "cell_type": "code",
      "source": [
        "mybook[\"Fer\"]=\"12312\""
      ],
      "outputs": [
        {
          "output_type": "execute_result",
          "execution_count": 10,
          "data": {
            "text/plain": "\"12312\""
          },
          "metadata": {}
        }
      ],
      "execution_count": 10,
      "metadata": {
        "collapsed": true,
        "jupyter": {
          "source_hidden": false,
          "outputs_hidden": false
        },
        "nteract": {
          "transient": {
            "deleting": false
          }
        },
        "execution": {
          "iopub.status.busy": "2020-07-06T03:03:06.516Z",
          "iopub.execute_input": "2020-07-06T03:03:06.531Z",
          "iopub.status.idle": "2020-07-06T03:03:06.554Z"
        }
      }
    },
    {
      "cell_type": "code",
      "source": [
        "mybook"
      ],
      "outputs": [
        {
          "output_type": "execute_result",
          "execution_count": 11,
          "data": {
            "text/plain": "Dict{String,String} with 3 entries:\n  \"Joe\"  => \"89898\"\n  \"Fer\"  => \"12312\"\n  \"Andy\" => \"32323-3232\""
          },
          "metadata": {}
        }
      ],
      "execution_count": 11,
      "metadata": {
        "collapsed": true,
        "jupyter": {
          "source_hidden": false,
          "outputs_hidden": false
        },
        "nteract": {
          "transient": {
            "deleting": false
          }
        },
        "execution": {
          "iopub.status.busy": "2020-07-06T03:03:06.689Z",
          "iopub.execute_input": "2020-07-06T03:03:06.702Z",
          "iopub.status.idle": "2020-07-06T03:03:06.717Z"
        }
      }
    },
    {
      "cell_type": "code",
      "source": [
        "mybook[\"Fer\"]"
      ],
      "outputs": [
        {
          "output_type": "execute_result",
          "execution_count": 12,
          "data": {
            "text/plain": "\"12312\""
          },
          "metadata": {}
        }
      ],
      "execution_count": 12,
      "metadata": {
        "collapsed": true,
        "jupyter": {
          "source_hidden": false,
          "outputs_hidden": false
        },
        "nteract": {
          "transient": {
            "deleting": false
          }
        },
        "execution": {
          "iopub.status.busy": "2020-07-06T03:03:06.828Z",
          "iopub.execute_input": "2020-07-06T03:03:06.834Z",
          "iopub.status.idle": "2020-07-06T03:03:06.862Z"
        }
      }
    },
    {
      "cell_type": "code",
      "source": [
        "#Para eliminar, usar pop\n",
        "pop!(mybook,\"Fer\")"
      ],
      "outputs": [
        {
          "output_type": "execute_result",
          "execution_count": 13,
          "data": {
            "text/plain": "\"12312\""
          },
          "metadata": {}
        }
      ],
      "execution_count": 13,
      "metadata": {
        "collapsed": true,
        "jupyter": {
          "source_hidden": false,
          "outputs_hidden": false
        },
        "nteract": {
          "transient": {
            "deleting": false
          }
        },
        "execution": {
          "iopub.status.busy": "2020-07-06T03:03:06.989Z",
          "iopub.execute_input": "2020-07-06T03:03:07.003Z",
          "iopub.status.idle": "2020-07-06T03:03:07.020Z"
        }
      }
    },
    {
      "cell_type": "code",
      "source": [
        "mybook"
      ],
      "outputs": [
        {
          "output_type": "execute_result",
          "execution_count": 14,
          "data": {
            "text/plain": "Dict{String,String} with 2 entries:\n  \"Joe\"  => \"89898\"\n  \"Andy\" => \"32323-3232\""
          },
          "metadata": {}
        }
      ],
      "execution_count": 14,
      "metadata": {
        "collapsed": true,
        "jupyter": {
          "source_hidden": false,
          "outputs_hidden": false
        },
        "nteract": {
          "transient": {
            "deleting": false
          }
        },
        "execution": {
          "iopub.status.busy": "2020-07-06T03:03:07.159Z",
          "iopub.execute_input": "2020-07-06T03:03:07.165Z",
          "iopub.status.idle": "2020-07-06T03:03:07.177Z"
        }
      }
    },
    {
      "cell_type": "code",
      "source": [
        "#1 no es llave\n",
        "mybook[1]"
      ],
      "outputs": [
        {
          "output_type": "error",
          "ename": "KeyError",
          "evalue": "KeyError: key 1 not found",
          "traceback": [
            "KeyError: key 1 not found",
            "",
            "Stacktrace:",
            " [1] getindex(::Dict{String,String}, ::Int64) at ./dict.jl:477",
            " [2] top-level scope at In[16]:1"
          ]
        }
      ],
      "execution_count": 16,
      "metadata": {
        "collapsed": true,
        "jupyter": {
          "source_hidden": false,
          "outputs_hidden": false
        },
        "nteract": {
          "transient": {
            "deleting": false
          }
        },
        "execution": {
          "iopub.status.busy": "2020-07-06T03:03:32.948Z",
          "iopub.execute_input": "2020-07-06T03:03:32.955Z",
          "iopub.status.idle": "2020-07-06T03:03:32.971Z"
        }
      }
    },
    {
      "cell_type": "markdown",
      "source": [
        "## Tuples"
      ],
      "metadata": {
        "nteract": {
          "transient": {
            "deleting": false
          }
        }
      }
    },
    {
      "cell_type": "code",
      "source": [
        "myfavoriteanimals = (\"cats\",\"penguins\",\"parrots\")\n",
        "myfavoriteanimals[1]"
      ],
      "outputs": [
        {
          "output_type": "execute_result",
          "execution_count": 19,
          "data": {
            "text/plain": "\"cats\""
          },
          "metadata": {}
        }
      ],
      "execution_count": 19,
      "metadata": {
        "collapsed": true,
        "jupyter": {
          "source_hidden": false,
          "outputs_hidden": false
        },
        "nteract": {
          "transient": {
            "deleting": false
          }
        },
        "execution": {
          "iopub.status.busy": "2020-07-06T03:04:23.726Z",
          "iopub.execute_input": "2020-07-06T03:04:23.733Z",
          "iopub.status.idle": "2020-07-06T03:04:23.746Z"
        }
      }
    },
    {
      "cell_type": "code",
      "source": [
        "myfavoriteanimals[2] = \"second animal\""
      ],
      "outputs": [
        {
          "output_type": "error",
          "ename": "MethodError",
          "evalue": "MethodError: no method matching setindex!(::Tuple{String,String,String}, ::String, ::Int64)",
          "traceback": [
            "MethodError: no method matching setindex!(::Tuple{String,String,String}, ::String, ::Int64)",
            "",
            "Stacktrace:",
            " [1] top-level scope at In[20]:1"
          ]
        }
      ],
      "execution_count": 20,
      "metadata": {
        "collapsed": true,
        "jupyter": {
          "source_hidden": false,
          "outputs_hidden": false
        },
        "nteract": {
          "transient": {
            "deleting": false
          }
        },
        "execution": {
          "iopub.status.busy": "2020-07-06T03:07:57.679Z",
          "iopub.execute_input": "2020-07-06T03:07:57.686Z",
          "iopub.status.idle": "2020-07-06T03:07:57.747Z"
        }
      }
    },
    {
      "cell_type": "markdown",
      "source": [
        "## Arrays"
      ],
      "metadata": {
        "nteract": {
          "transient": {
            "deleting": false
          }
        }
      }
    },
    {
      "cell_type": "code",
      "source": [
        "myfriends = [\"Bruno\",\"Mark\",\"Jeff\",\"Bill\"]"
      ],
      "outputs": [
        {
          "output_type": "execute_result",
          "execution_count": 21,
          "data": {
            "text/plain": "4-element Array{String,1}:\n \"Bruno\"\n \"Mark\"\n \"Jeff\"\n \"Bill\""
          },
          "metadata": {}
        }
      ],
      "execution_count": 21,
      "metadata": {
        "collapsed": true,
        "jupyter": {
          "source_hidden": false,
          "outputs_hidden": false
        },
        "nteract": {
          "transient": {
            "deleting": false
          }
        },
        "execution": {
          "iopub.status.busy": "2020-07-06T03:08:42.851Z",
          "iopub.execute_input": "2020-07-06T03:08:42.861Z",
          "iopub.status.idle": "2020-07-06T03:08:43.682Z"
        }
      }
    },
    {
      "cell_type": "code",
      "source": [
        "fibonacci=[1,1,2,3,5,8,13]"
      ],
      "outputs": [
        {
          "output_type": "execute_result",
          "execution_count": 24,
          "data": {
            "text/plain": "7-element Array{Int64,1}:\n  1\n  1\n  2\n  3\n  5\n  8\n 13"
          },
          "metadata": {}
        }
      ],
      "execution_count": 24,
      "metadata": {
        "collapsed": true,
        "jupyter": {
          "source_hidden": false,
          "outputs_hidden": false
        },
        "nteract": {
          "transient": {
            "deleting": false
          }
        },
        "execution": {
          "iopub.status.busy": "2020-07-06T03:09:30.547Z",
          "iopub.execute_input": "2020-07-06T03:09:30.554Z",
          "iopub.status.idle": "2020-07-06T03:09:30.571Z"
        }
      }
    },
    {
      "cell_type": "code",
      "source": [
        "lista_mixta=[1,1,2,3,5,8,\"bruno\"]"
      ],
      "outputs": [
        {
          "output_type": "execute_result",
          "execution_count": 25,
          "data": {
            "text/plain": "7-element Array{Any,1}:\n 1\n 1\n 2\n 3\n 5\n 8\n  \"bruno\""
          },
          "metadata": {}
        }
      ],
      "execution_count": 25,
      "metadata": {
        "collapsed": true,
        "jupyter": {
          "source_hidden": false,
          "outputs_hidden": false
        },
        "nteract": {
          "transient": {
            "deleting": false
          }
        },
        "execution": {
          "iopub.status.busy": "2020-07-06T03:09:30.845Z",
          "iopub.execute_input": "2020-07-06T03:09:30.852Z",
          "iopub.status.idle": "2020-07-06T03:09:30.867Z"
        }
      }
    },
    {
      "cell_type": "code",
      "source": [
        "myfriends[1]=\"Fer\""
      ],
      "outputs": [
        {
          "output_type": "execute_result",
          "execution_count": 26,
          "data": {
            "text/plain": "\"Fer\""
          },
          "metadata": {}
        }
      ],
      "execution_count": 26,
      "metadata": {
        "collapsed": true,
        "jupyter": {
          "source_hidden": false,
          "outputs_hidden": false
        },
        "nteract": {
          "transient": {
            "deleting": false
          }
        },
        "execution": {
          "iopub.status.busy": "2020-07-06T03:12:03.948Z",
          "iopub.execute_input": "2020-07-06T03:12:03.958Z",
          "iopub.status.idle": "2020-07-06T03:12:03.976Z"
        }
      }
    },
    {
      "cell_type": "code",
      "source": [
        "myfriends"
      ],
      "outputs": [
        {
          "output_type": "execute_result",
          "execution_count": 27,
          "data": {
            "text/plain": "4-element Array{String,1}:\n \"Fer\"\n \"Mark\"\n \"Jeff\"\n \"Bill\""
          },
          "metadata": {}
        }
      ],
      "execution_count": 27,
      "metadata": {
        "collapsed": true,
        "jupyter": {
          "source_hidden": false,
          "outputs_hidden": false
        },
        "nteract": {
          "transient": {
            "deleting": false
          }
        },
        "execution": {
          "iopub.status.busy": "2020-07-06T03:12:08.821Z",
          "iopub.execute_input": "2020-07-06T03:12:08.833Z",
          "iopub.status.idle": "2020-07-06T03:12:08.852Z"
        }
      }
    },
    {
      "cell_type": "code",
      "source": [
        "# Push es para añadir un numero al final\n",
        "push!(fibonacci,100)"
      ],
      "outputs": [
        {
          "output_type": "execute_result",
          "execution_count": 28,
          "data": {
            "text/plain": "8-element Array{Int64,1}:\n   1\n   1\n   2\n   3\n   5\n   8\n  13\n 100"
          },
          "metadata": {}
        }
      ],
      "execution_count": 28,
      "metadata": {
        "collapsed": true,
        "jupyter": {
          "source_hidden": false,
          "outputs_hidden": false
        },
        "nteract": {
          "transient": {
            "deleting": false
          }
        },
        "execution": {
          "iopub.status.busy": "2020-07-06T03:13:14.643Z",
          "iopub.execute_input": "2020-07-06T03:13:14.651Z",
          "iopub.status.idle": "2020-07-06T03:13:14.678Z"
        }
      }
    },
    {
      "cell_type": "code",
      "source": [
        "#Pop es para eliminar el numero del final\n",
        "pop!(fibonacci)"
      ],
      "outputs": [
        {
          "output_type": "execute_result",
          "execution_count": 29,
          "data": {
            "text/plain": "100"
          },
          "metadata": {}
        }
      ],
      "execution_count": 29,
      "metadata": {
        "collapsed": true,
        "jupyter": {
          "source_hidden": false,
          "outputs_hidden": false
        },
        "nteract": {
          "transient": {
            "deleting": false
          }
        },
        "execution": {
          "iopub.status.busy": "2020-07-06T03:13:33.200Z",
          "iopub.execute_input": "2020-07-06T03:13:33.211Z",
          "iopub.status.idle": "2020-07-06T03:13:33.444Z"
        }
      }
    },
    {
      "cell_type": "code",
      "source": [
        "fibonacci"
      ],
      "outputs": [
        {
          "output_type": "execute_result",
          "execution_count": 30,
          "data": {
            "text/plain": "7-element Array{Int64,1}:\n  1\n  1\n  2\n  3\n  5\n  8\n 13"
          },
          "metadata": {}
        }
      ],
      "execution_count": 30,
      "metadata": {
        "collapsed": true,
        "jupyter": {
          "source_hidden": false,
          "outputs_hidden": false
        },
        "nteract": {
          "transient": {
            "deleting": false
          }
        },
        "execution": {
          "iopub.status.busy": "2020-07-06T03:13:38.668Z",
          "iopub.execute_input": "2020-07-06T03:13:38.677Z",
          "iopub.status.idle": "2020-07-06T03:13:38.695Z"
        }
      }
    },
    {
      "cell_type": "markdown",
      "source": [
        "## Multidimensional Arrays"
      ],
      "metadata": {
        "nteract": {
          "transient": {
            "deleting": false
          }
        }
      }
    },
    {
      "cell_type": "code",
      "source": [
        "favorites = [[\"bird1\",\"bird2\",\"bird3\"],[\"cat1\",\"cat2\",\"cat3\"]]"
      ],
      "outputs": [
        {
          "output_type": "execute_result",
          "execution_count": 31,
          "data": {
            "text/plain": "2-element Array{Array{String,1},1}:\n [\"bird1\", \"bird2\", \"bird3\"]\n [\"cat1\", \"cat2\", \"cat3\"]"
          },
          "metadata": {}
        }
      ],
      "execution_count": 31,
      "metadata": {
        "collapsed": true,
        "jupyter": {
          "source_hidden": false,
          "outputs_hidden": false
        },
        "nteract": {
          "transient": {
            "deleting": false
          }
        },
        "execution": {
          "iopub.status.busy": "2020-07-06T03:14:52.298Z",
          "iopub.execute_input": "2020-07-06T03:14:52.310Z",
          "iopub.status.idle": "2020-07-06T03:14:53.419Z"
        }
      }
    },
    {
      "cell_type": "code",
      "source": [
        "numbers=[[1,2,3],[4,5,6],[7,8,9]]"
      ],
      "outputs": [
        {
          "output_type": "execute_result",
          "execution_count": 32,
          "data": {
            "text/plain": "3-element Array{Array{Int64,1},1}:\n [1, 2, 3]\n [4, 5, 6]\n [7, 8, 9]"
          },
          "metadata": {}
        }
      ],
      "execution_count": 32,
      "metadata": {
        "collapsed": true,
        "jupyter": {
          "source_hidden": false,
          "outputs_hidden": false
        },
        "nteract": {
          "transient": {
            "deleting": false
          }
        },
        "execution": {
          "iopub.status.busy": "2020-07-06T03:15:10.047Z",
          "iopub.execute_input": "2020-07-06T03:15:10.058Z",
          "iopub.status.idle": "2020-07-06T03:15:11.164Z"
        }
      }
    },
    {
      "cell_type": "markdown",
      "source": [
        "## Crear arrays multidimensionales con valores randomicos"
      ],
      "metadata": {
        "nteract": {
          "transient": {
            "deleting": false
          }
        }
      }
    },
    {
      "cell_type": "code",
      "source": [
        "rand(4,3)"
      ],
      "outputs": [
        {
          "output_type": "execute_result",
          "execution_count": 34,
          "data": {
            "text/plain": "4×3 Array{Float64,2}:\n 0.223745  0.83351   0.716692\n 0.982064  0.552365  0.343017\n 0.784233  0.663646  0.592453\n 0.593074  0.685246  0.991693"
          },
          "metadata": {}
        }
      ],
      "execution_count": 34,
      "metadata": {
        "collapsed": true,
        "jupyter": {
          "source_hidden": false,
          "outputs_hidden": false
        },
        "nteract": {
          "transient": {
            "deleting": false
          }
        },
        "execution": {
          "iopub.status.busy": "2020-07-06T03:15:58.204Z",
          "iopub.execute_input": "2020-07-06T03:15:58.214Z",
          "iopub.status.idle": "2020-07-06T03:15:58.238Z"
        }
      }
    },
    {
      "cell_type": "code",
      "source": [
        "rand(4,3,2)"
      ],
      "outputs": [
        {
          "output_type": "execute_result",
          "execution_count": 35,
          "data": {
            "text/plain": "4×3×2 Array{Float64,3}:\n[:, :, 1] =\n 0.28089    0.347774  0.568691\n 0.0556164  0.937691  0.703801\n 0.419388   0.761731  0.6584\n 0.277583   0.480497  0.2775\n\n[:, :, 2] =\n 0.256637  0.952648  0.0712897\n 0.983192  0.663259  0.998563\n 0.820277  0.626161  0.196761\n 0.471315  0.389731  0.24699"
          },
          "metadata": {}
        }
      ],
      "execution_count": 35,
      "metadata": {
        "collapsed": true,
        "jupyter": {
          "source_hidden": false,
          "outputs_hidden": false
        },
        "nteract": {
          "transient": {
            "deleting": false
          }
        },
        "execution": {
          "iopub.status.busy": "2020-07-06T03:16:05.319Z",
          "iopub.execute_input": "2020-07-06T03:16:05.337Z",
          "iopub.status.idle": "2020-07-06T03:16:06.845Z"
        }
      }
    },
    {
      "cell_type": "code",
      "source": [],
      "outputs": [],
      "execution_count": null,
      "metadata": {
        "collapsed": true,
        "jupyter": {
          "source_hidden": false,
          "outputs_hidden": false
        },
        "nteract": {
          "transient": {
            "deleting": false
          }
        }
      }
    }
  ],
  "metadata": {
    "kernel_info": {
      "name": "julia-1.4"
    },
    "language_info": {
      "file_extension": ".jl",
      "name": "julia",
      "mimetype": "application/julia",
      "version": "1.4.0"
    },
    "kernelspec": {
      "argv": [
        "/Applications/Julia-1.4.app/Contents/Resources/julia/bin/julia",
        "-i",
        "--startup-file=yes",
        "--color=yes",
        "--project=@.",
        "/Users/fernandosilva/.julia/packages/IJulia/yLI42/src/kernel.jl",
        "{connection_file}"
      ],
      "display_name": "Julia 1.4.0",
      "env": {},
      "interrupt_mode": "signal",
      "language": "julia",
      "name": "julia-1.4"
    },
    "nteract": {
      "version": "0.24.0"
    }
  },
  "nbformat": 4,
  "nbformat_minor": 0
}