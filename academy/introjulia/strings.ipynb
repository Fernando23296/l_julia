{
  "cells": [
    {
      "cell_type": "markdown",
      "source": [
        "# Strings "
      ],
      "metadata": {
        "nteract": {
          "transient": {
            "deleting": false
          }
        }
      }
    },
    {
      "cell_type": "markdown",
      "source": [
        "## Strings"
      ],
      "metadata": {
        "nteract": {
          "transient": {
            "deleting": false
          }
        }
      }
    },
    {
      "cell_type": "code",
      "source": [
        "s1 = \"Soy un string\"\n"
      ],
      "outputs": [
        {
          "output_type": "execute_result",
          "execution_count": 1,
          "data": {
            "text/plain": "\"Soy un string\""
          },
          "metadata": {}
        }
      ],
      "execution_count": 1,
      "metadata": {
        "collapsed": true,
        "jupyter": {
          "source_hidden": false,
          "outputs_hidden": false
        },
        "nteract": {
          "transient": {
            "deleting": false
          }
        },
        "execution": {
          "iopub.status.busy": "2020-07-06T02:36:22.568Z",
          "iopub.execute_input": "2020-07-06T02:36:24.439Z",
          "iopub.status.idle": "2020-07-06T02:36:26.351Z"
        }
      }
    },
    {
      "cell_type": "code",
      "source": [
        "s2 = \"\"\" Esto es una comilla \"\" \"\"\""
      ],
      "outputs": [
        {
          "output_type": "execute_result",
          "execution_count": 2,
          "data": {
            "text/plain": "\" Esto es una comilla \\\"\\\" \""
          },
          "metadata": {}
        }
      ],
      "execution_count": 2,
      "metadata": {
        "collapsed": true,
        "jupyter": {
          "source_hidden": false,
          "outputs_hidden": false
        },
        "nteract": {
          "transient": {
            "deleting": false
          }
        },
        "execution": {
          "iopub.status.busy": "2020-07-06T02:37:06.428Z",
          "iopub.execute_input": "2020-07-06T02:37:06.433Z",
          "iopub.status.idle": "2020-07-06T02:37:06.450Z"
        }
      }
    },
    {
      "cell_type": "code",
      "source": [
        "# '' define un char\n",
        "typeof('a')"
      ],
      "outputs": [
        {
          "output_type": "execute_result",
          "execution_count": 4,
          "data": {
            "text/plain": "Char"
          },
          "metadata": {}
        }
      ],
      "execution_count": 4,
      "metadata": {
        "collapsed": true,
        "jupyter": {
          "source_hidden": false,
          "outputs_hidden": false
        },
        "nteract": {
          "transient": {
            "deleting": false
          }
        },
        "execution": {
          "iopub.status.busy": "2020-07-06T02:38:02.047Z",
          "iopub.execute_input": "2020-07-06T02:38:02.055Z",
          "iopub.status.idle": "2020-07-06T02:38:02.390Z"
        }
      }
    },
    {
      "cell_type": "code",
      "source": [
        "typeof(\"a\")"
      ],
      "outputs": [
        {
          "output_type": "execute_result",
          "execution_count": 5,
          "data": {
            "text/plain": "String"
          },
          "metadata": {}
        }
      ],
      "execution_count": 5,
      "metadata": {
        "collapsed": true,
        "jupyter": {
          "source_hidden": false,
          "outputs_hidden": false
        },
        "nteract": {
          "transient": {
            "deleting": false
          }
        },
        "execution": {
          "iopub.status.busy": "2020-07-06T02:38:08.893Z",
          "iopub.execute_input": "2020-07-06T02:38:08.898Z",
          "iopub.status.idle": "2020-07-06T02:38:08.913Z"
        }
      }
    },
    {
      "cell_type": "code",
      "source": [
        "'Esto dara error'"
      ],
      "outputs": [
        {
          "output_type": "error",
          "ename": "LoadError",
          "evalue": "syntax: invalid character literal",
          "traceback": [
            "syntax: invalid character literal",
            ""
          ]
        }
      ],
      "execution_count": 6,
      "metadata": {
        "collapsed": true,
        "jupyter": {
          "source_hidden": false,
          "outputs_hidden": false
        },
        "nteract": {
          "transient": {
            "deleting": false
          }
        },
        "execution": {
          "iopub.status.busy": "2020-07-06T02:38:30.133Z",
          "iopub.execute_input": "2020-07-06T02:38:30.141Z",
          "iopub.status.idle": "2020-07-06T02:38:30.155Z"
        }
      }
    },
    {
      "cell_type": "code",
      "source": [
        "\"Esto no data error\""
      ],
      "outputs": [
        {
          "output_type": "execute_result",
          "execution_count": 7,
          "data": {
            "text/plain": "\"Esto no data error\""
          },
          "metadata": {}
        }
      ],
      "execution_count": 7,
      "metadata": {
        "collapsed": true,
        "jupyter": {
          "source_hidden": false,
          "outputs_hidden": false
        },
        "nteract": {
          "transient": {
            "deleting": false
          }
        },
        "execution": {
          "iopub.status.busy": "2020-07-06T02:38:34.544Z",
          "iopub.execute_input": "2020-07-06T02:38:34.550Z",
          "iopub.status.idle": "2020-07-06T02:38:34.566Z"
        }
      }
    },
    {
      "cell_type": "markdown",
      "source": [
        "### String interpolation (El uso de $)\n"
      ],
      "metadata": {
        "nteract": {
          "transient": {
            "deleting": false
          }
        }
      }
    },
    {
      "cell_type": "code",
      "source": [
        "name = \"Bruno\"\n",
        "age = 24\n",
        "print(\"Hola me llamo $name y tengo $age años, al año tendre $(age+1) años\")"
      ],
      "outputs": [
        {
          "output_type": "stream",
          "name": "stdout",
          "text": [
            "Hola me llamo Bruno y tengo 24 años, al año tendre 25 años"
          ]
        }
      ],
      "execution_count": 11,
      "metadata": {
        "collapsed": true,
        "jupyter": {
          "source_hidden": false,
          "outputs_hidden": false
        },
        "nteract": {
          "transient": {
            "deleting": false
          }
        },
        "execution": {
          "iopub.status.busy": "2020-07-06T02:51:22.827Z",
          "iopub.execute_input": "2020-07-06T02:51:22.835Z",
          "iopub.status.idle": "2020-07-06T02:51:22.852Z"
        }
      }
    },
    {
      "cell_type": "markdown",
      "source": [
        "### String concatenation"
      ],
      "metadata": {
        "nteract": {
          "transient": {
            "deleting": false
          }
        }
      }
    },
    {
      "cell_type": "code",
      "source": [
        "string(\"How many cats \",\"are too many cats?\")"
      ],
      "outputs": [
        {
          "output_type": "execute_result",
          "execution_count": 13,
          "data": {
            "text/plain": "\"How many cats are too many cats?\""
          },
          "metadata": {}
        }
      ],
      "execution_count": 13,
      "metadata": {
        "collapsed": true,
        "jupyter": {
          "source_hidden": false,
          "outputs_hidden": false
        },
        "nteract": {
          "transient": {
            "deleting": false
          }
        },
        "execution": {
          "iopub.status.busy": "2020-07-06T02:53:23.250Z",
          "iopub.execute_input": "2020-07-06T02:53:23.256Z",
          "iopub.status.idle": "2020-07-06T02:53:23.270Z"
        }
      }
    },
    {
      "cell_type": "code",
      "source": [
        "string(\"I dont know, but \",10,\" are too many cats\")"
      ],
      "outputs": [
        {
          "output_type": "execute_result",
          "execution_count": 14,
          "data": {
            "text/plain": "\"I dont know, but 10 are too many cats\""
          },
          "metadata": {}
        }
      ],
      "execution_count": 14,
      "metadata": {
        "collapsed": true,
        "jupyter": {
          "source_hidden": false,
          "outputs_hidden": false
        },
        "nteract": {
          "transient": {
            "deleting": false
          }
        },
        "execution": {
          "iopub.status.busy": "2020-07-06T02:53:44.962Z",
          "iopub.execute_input": "2020-07-06T02:53:44.969Z",
          "iopub.status.idle": "2020-07-06T02:53:44.982Z"
        }
      }
    },
    {
      "cell_type": "code",
      "source": [
        "#Podemos usar * para el string interpolation\n",
        "s3 = \"I dont know, but \";\n",
        "s4 = \"are too many cats\";\n",
        "s3*s4"
      ],
      "outputs": [
        {
          "output_type": "execute_result",
          "execution_count": 16,
          "data": {
            "text/plain": "\"I dont know, but are too many cats\""
          },
          "metadata": {}
        }
      ],
      "execution_count": 16,
      "metadata": {
        "collapsed": true,
        "jupyter": {
          "source_hidden": false,
          "outputs_hidden": false
        },
        "nteract": {
          "transient": {
            "deleting": false
          }
        },
        "execution": {
          "iopub.status.busy": "2020-07-06T02:54:59.811Z",
          "iopub.execute_input": "2020-07-06T02:54:59.817Z",
          "iopub.status.idle": "2020-07-06T02:54:59.833Z"
        }
      }
    },
    {
      "cell_type": "code",
      "source": [
        "\"$s3$s4\""
      ],
      "outputs": [
        {
          "output_type": "execute_result",
          "execution_count": 18,
          "data": {
            "text/plain": "\"I dont know, but are too many cats\""
          },
          "metadata": {}
        }
      ],
      "execution_count": 18,
      "metadata": {
        "collapsed": true,
        "jupyter": {
          "source_hidden": false,
          "outputs_hidden": false
        },
        "nteract": {
          "transient": {
            "deleting": false
          }
        },
        "execution": {
          "iopub.status.busy": "2020-07-06T02:55:13.545Z",
          "iopub.execute_input": "2020-07-06T02:55:13.553Z",
          "iopub.status.idle": "2020-07-06T02:55:13.567Z"
        }
      }
    },
    {
      "cell_type": "code",
      "source": [],
      "outputs": [],
      "execution_count": null,
      "metadata": {
        "collapsed": true,
        "jupyter": {
          "source_hidden": false,
          "outputs_hidden": false
        },
        "nteract": {
          "transient": {
            "deleting": false
          }
        }
      }
    }
  ],
  "metadata": {
    "kernel_info": {
      "name": "julia-1.4"
    },
    "language_info": {
      "file_extension": ".jl",
      "name": "julia",
      "mimetype": "application/julia",
      "version": "1.4.0"
    },
    "kernelspec": {
      "argv": [
        "/Applications/Julia-1.4.app/Contents/Resources/julia/bin/julia",
        "-i",
        "--startup-file=yes",
        "--color=yes",
        "--project=@.",
        "/Users/fernandosilva/.julia/packages/IJulia/yLI42/src/kernel.jl",
        "{connection_file}"
      ],
      "display_name": "Julia 1.4.0",
      "env": {},
      "interrupt_mode": "signal",
      "language": "julia",
      "name": "julia-1.4"
    },
    "nteract": {
      "version": "0.24.0"
    }
  },
  "nbformat": 4,
  "nbformat_minor": 0
}